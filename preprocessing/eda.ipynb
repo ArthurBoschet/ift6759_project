{
 "cells": [
  {
   "attachments": {},
   "cell_type": "markdown",
   "metadata": {},
   "source": [
    "# Exploratory Data Analysis (EDA)"
   ]
  },
  {
   "attachments": {},
   "cell_type": "markdown",
   "metadata": {},
   "source": [
    "## Imports"
   ]
  },
  {
   "cell_type": "code",
   "execution_count": 7,
   "metadata": {},
   "outputs": [],
   "source": [
    "import os\n",
    "import sys\n",
    "import numpy as np\n",
    "import matplotlib.pyplot as plt\n",
    "\n",
    "from ipywidgets import interact\n",
    "import ipywidgets as widgets"
   ]
  },
  {
   "attachments": {},
   "cell_type": "markdown",
   "metadata": {},
   "source": [
    "## Data"
   ]
  },
  {
   "cell_type": "code",
   "execution_count": 3,
   "metadata": {},
   "outputs": [],
   "source": [
    "raw_data = np.load('../dataset/Task02_Heart/raw/imagesTr/image_003.npy')\n",
    "crop_data = np.load('../dataset/Task02_Heart/cropped/imagesTr/image_003.npy')\n",
    "preprocessed_data = np.load('../dataset/Task02_Heart/preprocessed/imagesTr/image_003.npy')\n",
    "preprocessed_pad_data = np.load('../dataset/Task02_Heart/preprocessed_pad/imagesTr/image_003.npy')"
   ]
  },
  {
   "cell_type": "code",
   "execution_count": 4,
   "metadata": {},
   "outputs": [
    {
     "name": "stdout",
     "output_type": "stream",
     "text": [
      "raw_data shape:  (130, 320, 320)\n",
      "crop_data shape:  (130, 320, 232)\n",
      "preprocessed_data shape:  (130, 320, 232)\n",
      "preprocessed_pad_data shape:  (130, 320, 256)\n"
     ]
    }
   ],
   "source": [
    "print('raw_data shape: ', raw_data.shape)\n",
    "print('crop_data shape: ', crop_data.shape)\n",
    "print('preprocessed_data shape: ', preprocessed_data.shape)\n",
    "print('preprocessed_pad_data shape: ', preprocessed_pad_data.shape)"
   ]
  },
  {
   "attachments": {},
   "cell_type": "markdown",
   "metadata": {},
   "source": [
    "## Visualisation"
   ]
  },
  {
   "cell_type": "code",
   "execution_count": 5,
   "metadata": {},
   "outputs": [
    {
     "data": {
      "image/png": "[encoded data removed]",
      "text/plain": [
       "<Figure size 640x480 with 1 Axes>"
      ]
     },
     "metadata": {},
     "output_type": "display_data"
    }
   ],
   "source": [
    "shapes = []\n",
    "dir = '../dataset/Task02_Heart/preprocessed/imagesTr'\n",
    "for file in os.listdir(dir):\n",
    "    if file.endswith('.npy'):\n",
    "        data = np.load(os.path.join(dir, file))\n",
    "        shapes.append(data.shape[-1])\n",
    "\n",
    "plt.hist(shapes, bins=20)\n",
    "plt.title('Histogram of image width')\n",
    "plt.xlabel('Image width')\n",
    "plt.ylabel('Frequency')\n",
    "plt.show()"
   ]
  },
  {
   "cell_type": "code",
   "execution_count": 6,
   "metadata": {},
   "outputs": [
    {
     "data": {
      "application/vnd.jupyter.widget-view+json": {
       "model_id": "186af27eebd74be0860df2c174e81b1e",
       "version_major": 2,
       "version_minor": 0
      },
      "text/plain": [
       "interactive(children=(Dropdown(description='dataset', options=('raw', 'cropped', 'preprocessed', 'preprocessed…"
      ]
     },
     "metadata": {},
     "output_type": "display_data"
    },
    {
     "data": {
      "text/plain": [
       "<function __main__.plot_slice(dataset, type, image, slice)>"
      ]
     },
     "execution_count": 6,
     "metadata": {},
     "output_type": "execute_result"
    }
   ],
   "source": [
    "def plot_slice(dataset, type, image, slice):\n",
    "    image_number = str(image).zfill(3)\n",
    "    path = f'../dataset/Task02_Heart/{dataset}/{type}sTr/{type}_{image_number}.npy'\n",
    "    if os.path.exists(path):\n",
    "        im = np.load(path)\n",
    "    else:\n",
    "        im = np.zeros((130, 320, 320))\n",
    "    if slice > im.shape[0]:\n",
    "        slice = im.shape[0] - 1\n",
    "    plt.imshow(im[slice], cmap='gray')\n",
    "    plt.show()\n",
    "\n",
    "interact(plot_slice, \n",
    "         dataset=widgets.Dropdown(options=['raw', 'cropped', 'preprocessed', 'preprocessed_pad'], value='raw'),\n",
    "         type=widgets.Dropdown(options=['image', 'label'], value='image'),\n",
    "         image=widgets.IntSlider(min=3, max=30, step=1, value=0), \n",
    "         slice=widgets.IntSlider(min=0, max=129, step=1, value=0))"
   ]
  },
  {
   "attachments": {},
   "cell_type": "markdown",
   "metadata": {},
   "source": [
    "## DataLoader Test"
   ]
  },
  {
   "cell_type": "code",
   "execution_count": 12,
   "metadata": {},
   "outputs": [
    {
     "name": "stderr",
     "output_type": "stream",
     "text": [
      "100%|██████████| 20/20 [00:01<00:00, 11.84it/s]\n",
      "100%|██████████| 20/20 [00:01<00:00, 10.37it/s]\n"
     ]
    },
    {
     "name": "stdout",
     "output_type": "stream",
     "text": [
      "torch.Size([1, 110, 320, 320])\n",
      "torch.Size([1, 110, 320, 320])\n"
     ]
    }
   ],
   "source": [
    "\n",
    "from data_loader import load_data\n",
    "\n",
    "sys.path.append('nnUNet')\n",
    "\n",
    "task_folder_path = '../dataset/Task02_Heart'\n",
    "train_dataloader, val_dataloader = load_data(task_folder_path, dataset_type=\"raw\", val_size=0.2, batch_size=1, shuffle=True)\n",
    "\n",
    "for i, (images, labels) in enumerate(train_dataloader):\n",
    "    print(images.shape)\n",
    "    print(labels.shape)\n",
    "    break"
   ]
  }
 ],
 "metadata": {
  "kernelspec": {
   "display_name": "venv",
   "language": "python",
   "name": "python3"
  },
  "language_info": {
   "codemirror_mode": {
    "name": "ipython",
    "version": 3
   },
   "file_extension": ".py",
   "mimetype": "text/x-python",
   "name": "python",
   "nbconvert_exporter": "python",
   "pygments_lexer": "ipython3",
   "version": "3.9.6"
  },
  "orig_nbformat": 4,
  "vscode": {
   "interpreter": {
    "hash": "78b697df33c5fe0f823b3a642bfcafc80c6fd1c509017ac21303ec5ea8178957"
   }
  }
 },
 "nbformat": 4,
 "nbformat_minor": 2
}
