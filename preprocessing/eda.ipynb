{
 "cells": [
  {
   "attachments": {},
   "cell_type": "markdown",
   "metadata": {},
   "source": [
    "# Exploratory Data Analysis (EDA)"
   ]
  },
  {
   "attachments": {},
   "cell_type": "markdown",
   "metadata": {},
   "source": [
    "## Imports"
   ]
  },
  {
   "cell_type": "code",
   "execution_count": 1,
   "metadata": {},
   "outputs": [],
   "source": [
    "import os\n",
    "import numpy as np\n",
    "import matplotlib.pyplot as plt"
   ]
  },
  {
   "attachments": {},
   "cell_type": "markdown",
   "metadata": {},
   "source": [
    "## Data"
   ]
  },
  {
   "cell_type": "code",
   "execution_count": 4,
   "metadata": {},
   "outputs": [],
   "source": [
    "raw_data = np.load('../dataset/Task07_Pancreas/raw/imagesTr/image_001.npy')\n",
    "preprocessed_s0_data = np.load('../dataset/Task07_Pancreas/preprocessed/stage_0/imagesTr/image_001.npy')\n",
    "preprocessed_s0_pad_data = np.load('../dataset/Task07_Pancreas/preprocessed_pad/stage_0/imagesTr/image_001.npy')\n",
    "preprocessed_s1_data = np.load('../dataset/Task07_Pancreas/preprocessed/stage_1/imagesTr/image_001.npy')"
   ]
  },
  {
   "cell_type": "code",
   "execution_count": 6,
   "metadata": {},
   "outputs": [
    {
     "name": "stdout",
     "output_type": "stream",
     "text": [
      "raw_data shape:  (48, 512, 512)\n",
      "crop_data shape:  (110, 512, 512)\n",
      "preprocessed_s0_data shape:  (107, 255, 255)\n",
      "preprocessed_s0_pad_data shape:  (107, 255, 386)\n",
      "preprocessed_s1_data shape:  (110, 411, 411)\n"
     ]
    }
   ],
   "source": [
    "print('raw_data shape: ', raw_data.shape)\n",
    "print('preprocessed_s0_data shape: ', preprocessed_s0_data.shape)\n",
    "print('preprocessed_s0_pad_data shape: ', preprocessed_s0_pad_data.shape)\n",
    "print('preprocessed_s1_data shape: ', preprocessed_s1_data.shape)"
   ]
  },
  {
   "attachments": {},
   "cell_type": "markdown",
   "metadata": {},
   "source": [
    "## Visualisation"
   ]
  },
  {
   "cell_type": "code",
   "execution_count": 8,
   "metadata": {},
   "outputs": [
    {
     "name": "stderr",
     "output_type": "stream",
     "text": [
      "/var/folders/3h/g_6vhxgn4m783rkm0fwpj3180000gn/T/ipykernel_28495/3998484331.py:12: UserWarning: Matplotlib is currently using agg, which is a non-GUI backend, so cannot show the figure.\n",
      "  plt.show()\n"
     ]
    }
   ],
   "source": [
    "shapes = []\n",
    "dir = '../dataset/Task07_Pancreas/preprocessed/stage_0/imagesTr'\n",
    "for file in os.listdir(dir):\n",
    "    if file.endswith('.npy'):\n",
    "        data = np.load(os.path.join(dir, file))\n",
    "        shapes.append(data.shape[-1])\n",
    "\n",
    "plt.hist(shapes, bins=20)\n",
    "plt.title('Histogram of image width')\n",
    "plt.xlabel('Image width')\n",
    "plt.ylabel('Frequency')\n",
    "plt.show()"
   ]
  },
  {
   "cell_type": "code",
   "execution_count": 1,
   "metadata": {},
   "outputs": [
    {
     "data": {
      "application/vnd.jupyter.widget-view+json": {
       "model_id": "816c9a238c76400f99fe80134b56fe65",
       "version_major": 2,
       "version_minor": 0
      },
      "text/plain": [
       "interactive(children=(Dropdown(description='dataset', options=('02_Heart', '07_Pancreas', '09_Spleen'), value=…"
      ]
     },
     "metadata": {},
     "output_type": "display_data"
    },
    {
     "data": {
      "text/plain": [
       "<function __main__.plot_slice(dataset, category, stage, type, image, slice)>"
      ]
     },
     "execution_count": 1,
     "metadata": {},
     "output_type": "execute_result"
    }
   ],
   "source": [
    "import os\n",
    "import numpy as np\n",
    "import matplotlib.pyplot as plt\n",
    "\n",
    "from ipywidgets import interact\n",
    "import ipywidgets as widgets\n",
    "\n",
    "def plot_slice(dataset, category, stage, type, image, slice):\n",
    "    slice -= 1\n",
    "    image_number = str(image).zfill(3)\n",
    "    if category == 'preprocessed':\n",
    "        path = f'../dataset/Task{dataset}/{category}/{stage}/{type}sTr/{type}_{image_number}.npy'\n",
    "    elif category == 'preprocessed_pad':\n",
    "        path = f'../dataset/Task{dataset}/{category}/stage_0/{type}sTr/{type}_{image_number}.npy'\n",
    "    else:\n",
    "        path = f'../dataset/Task{dataset}/{category}/{type}sTr/{type}_{image_number}.npy'\n",
    "    if os.path.exists(path):\n",
    "        im = np.load(path)\n",
    "        print(\"image shape:\", im.shape)\n",
    "    else:\n",
    "        print(\"image not found\")\n",
    "        im = np.zeros((130, 320, 320))\n",
    "    if slice > im.shape[0]-1:\n",
    "        slice = im.shape[0] - 1\n",
    "    plt.imshow(im[slice], cmap='gray')\n",
    "    plt.show()\n",
    "\n",
    "interact(plot_slice, \n",
    "         dataset=widgets.Dropdown(options=['02_Heart', '07_Pancreas', '09_Spleen'], value='02_Heart'),\n",
    "         category=widgets.Dropdown(options=['raw', 'preprocessed', 'preprocessed_pad'], value='raw'),\n",
    "         stage=widgets.Dropdown(options=['stage_0', 'stage_1'], value='stage_0'),\n",
    "         type=widgets.Dropdown(options=['image', 'label'], value='image'),\n",
    "         image=widgets.IntSlider(min=3, max=30, step=1, value=0), \n",
    "         slice=widgets.IntSlider(min=1, max=130, step=1, value=0))"
   ]
  },
  {
   "attachments": {},
   "cell_type": "markdown",
   "metadata": {},
   "source": [
    "## DataLoader Test"
   ]
  },
  {
   "cell_type": "code",
   "execution_count": 13,
   "metadata": {},
   "outputs": [
    {
     "name": "stderr",
     "output_type": "stream",
     "text": [
      "100%|██████████| 20/20 [00:00<00:00, 56.98it/s]\n",
      "100%|██████████| 20/20 [00:00<00:00, 49.19it/s]\n"
     ]
    },
    {
     "name": "stdout",
     "output_type": "stream",
     "text": [
      "image shape: torch.Size([5, 1, 120, 320, 320])\n",
      "label shape: torch.Size([5, 1, 120, 320, 320])\n"
     ]
    }
   ],
   "source": [
    "import sys\n",
    "sys.path.append('nnUNet')\n",
    "\n",
    "from data_loader import load_data\n",
    "\n",
    "\n",
    "task_folder_path = '../dataset/Task02_Heart'\n",
    "# task_folder_path = '../dataset/Task07_Pancreas'\n",
    "# task_folder_path = '../dataset/Task09_Spleen'\n",
    "train_dataloader, val_dataloader = load_data(task_folder_path, \n",
    "                                             dataset_type=\"preprocessed\", \n",
    "                                             stage=\"stage_0\", \n",
    "                                             val_size=0.2, \n",
    "                                             batch_size=5, \n",
    "                                             shuffle=True,\n",
    "                                             resize=(120, 320, 320))\n",
    "\n",
    "for i, (images, labels) in enumerate(train_dataloader):\n",
    "    print(\"image shape:\", images.shape)\n",
    "    print(\"label shape:\", labels.shape)\n",
    "    break"
   ]
  },
  {
   "cell_type": "code",
   "execution_count": 14,
   "metadata": {},
   "outputs": [],
   "source": [
    "fig, ax = plt.subplots(5, 2, figsize=(10, 20))\n",
    "for i in range(5):\n",
    "    ax[i, 0].imshow(images[i][0][80], cmap='gray')\n",
    "    ax[i, 1].imshow(labels[i][0][80], cmap='gray')\n",
    "# save the plot as a png file\n",
    "plt.savefig('images.png')"
   ]
  }
 ],
 "metadata": {
  "kernelspec": {
   "display_name": "venv",
   "language": "python",
   "name": "python3"
  },
  "language_info": {
   "codemirror_mode": {
    "name": "ipython",
    "version": 3
   },
   "file_extension": ".py",
   "mimetype": "text/x-python",
   "name": "python",
   "nbconvert_exporter": "python",
   "pygments_lexer": "ipython3",
   "version": "3.9.6"
  },
  "orig_nbformat": 4,
  "vscode": {
   "interpreter": {
    "hash": "78b697df33c5fe0f823b3a642bfcafc80c6fd1c509017ac21303ec5ea8178957"
   }
  }
 },
 "nbformat": 4,
 "nbformat_minor": 2
}
