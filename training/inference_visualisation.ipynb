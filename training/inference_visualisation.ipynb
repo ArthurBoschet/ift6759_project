{
 "cells": [
  {
   "attachments": {},
   "cell_type": "markdown",
   "metadata": {},
   "source": [
    "# Inference Visualisation"
   ]
  },
  {
   "attachments": {},
   "cell_type": "markdown",
   "metadata": {},
   "source": [
    "**Notebook used to visualise the inference results**"
   ]
  },
  {
   "attachments": {},
   "cell_type": "markdown",
   "metadata": {},
   "source": [
    "## Imports"
   ]
  },
  {
   "cell_type": "code",
   "execution_count": 24,
   "metadata": {},
   "outputs": [],
   "source": [
    "import sys\n",
    "sys.path.append('../')\n",
    "sys.path.append('../utils')\n",
    "sys.path.append('../preprocessing')\n",
    "sys.path.append('../models')\n",
    "\n",
    "import os\n",
    "\n",
    "from utils.visualization import visualize_infered_labels\n",
    "from preprocessing.data_loader import load_test_data"
   ]
  },
  {
   "attachments": {},
   "cell_type": "markdown",
   "metadata": {},
   "source": [
    "## Visualisation"
   ]
  },
  {
   "cell_type": "code",
   "execution_count": null,
   "metadata": {},
   "outputs": [],
   "source": [
    "# init params\n",
    "task_name = \"Task02_Heart\"\n",
    "task_folder_path = os.path.join(\"../../scratch/dataset\", task_name)\n",
    "output_folder = os.path.join(\"inference\", task_name)\n",
    "output_filenames = sorted(os.listdir(os.path.join(task_folder_path, \"test\")))\n",
    "output_filenames_idx = [filename[-7:-4] for filename in output_filenames]\n",
    "\n",
    "# load test dataloader\n",
    "test_dataloader = load_test_data(task_folder_path,\n",
    "                                 batch_size=1,\n",
    "                                 shuffle=False,\n",
    "                                 normalize=False,\n",
    "                                 resize=None,\n",
    "                                 transform=None)\n",
    "\n",
    "labels_path = os.path.join(output_folder, sorted(os.listdir(output_folder))[-1])\n",
    "visualize_infered_labels(test_dataloader, labels_path, figsize=(5, 5))"
   ]
  }
 ],
 "metadata": {
  "kernelspec": {
   "display_name": "venv",
   "language": "python",
   "name": "python3"
  },
  "language_info": {
   "codemirror_mode": {
    "name": "ipython",
    "version": 3
   },
   "file_extension": ".py",
   "mimetype": "text/x-python",
   "name": "python",
   "nbconvert_exporter": "python",
   "pygments_lexer": "ipython3",
   "version": "3.9.6"
  },
  "orig_nbformat": 4
 },
 "nbformat": 4,
 "nbformat_minor": 2
}
