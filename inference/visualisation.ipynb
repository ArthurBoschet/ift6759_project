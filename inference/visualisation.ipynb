{
 "cells": [
  {
   "attachments": {},
   "cell_type": "markdown",
   "metadata": {},
   "source": [
    "# Inference Visualisation"
   ]
  },
  {
   "attachments": {},
   "cell_type": "markdown",
   "metadata": {},
   "source": [
    "**Notebook used to visualise the inference results**"
   ]
  },
  {
   "attachments": {},
   "cell_type": "markdown",
   "metadata": {},
   "source": [
    "## Imports"
   ]
  },
  {
   "cell_type": "code",
   "execution_count": 1,
   "metadata": {},
   "outputs": [],
   "source": [
    "import sys\n",
    "sys.path.append('../')\n",
    "sys.path.append('../utils')\n",
    "sys.path.append('../preprocessing')\n",
    "sys.path.append('../models')\n",
    "sys.path.append('../experiments')\n",
    "sys.path.append('../inference')\n",
    "\n",
    "import os\n",
    "\n",
    "from utils.visualization import visualize_infered_labels\n",
    "from preprocessing.data_loader import load_test_data"
   ]
  },
  {
   "attachments": {},
   "cell_type": "markdown",
   "metadata": {},
   "source": [
    "## Visualisation"
   ]
  },
  {
   "cell_type": "code",
   "execution_count": 2,
   "metadata": {},
   "outputs": [
    {
     "name": "stderr",
     "output_type": "stream",
     "text": [
      "100%|██████████| 266/266 [00:07<00:00, 34.24it/s]\n"
     ]
    },
    {
     "data": {
      "application/vnd.jupyter.widget-view+json": {
       "model_id": "6642e567c2714049827825ef6ba9d95e",
       "version_major": 2,
       "version_minor": 0
      },
      "text/plain": [
       "interactive(children=(IntSlider(value=133, description='image', max=266, min=1), IntSlider(value=78, descripti…"
      ]
     },
     "metadata": {},
     "output_type": "display_data"
    }
   ],
   "source": [
    "task_names = [\"Task01_BrainTumour\",\n",
    "              \"Task02_Heart\", \n",
    "              \"Task03_Liver\", \n",
    "              \"Task04_Hippocampus\",\n",
    "              \"Task05_Prostate\", \n",
    "              \"Task06_Lung\", \n",
    "              \"Task07_Pancreas\", \n",
    "              \"Task08_HepaticVessel\", \n",
    "              \"Task09_Spleen\", \n",
    "              \"Task10_Colon\"]\n",
    "\n",
    "# init params\n",
    "task_idx = 1\n",
    "task_name = task_names[task_idx-1]\n",
    "model_name = \"UNetConvSkip\"\n",
    "task_folder_path = os.path.join(\"/home/jaggbow/scratch/clem/dataset\", task_name)\n",
    "output_folder = os.path.join(\"/home/jaggbow/scratch/clem/inference\", model_name, task_name)\n",
    "output_filenames = sorted(os.listdir(os.path.join(task_folder_path, \"test\")))\n",
    "output_filenames_idx = [filename[-7:-4] for filename in output_filenames]\n",
    "\n",
    "# load test dataloader\n",
    "test_dataloader = load_test_data(task_folder_path,\n",
    "                                 batch_size=1,\n",
    "                                 shuffle=False,\n",
    "                                 normalize=False,\n",
    "                                 resize=None,\n",
    "                                 transform=None)\n",
    "\n",
    "visualize_infered_labels(test_dataloader, output_folder, figsize=(5, 5))"
   ]
  },
  {
   "cell_type": "code",
   "execution_count": null,
   "metadata": {},
   "outputs": [],
   "source": []
  }
 ],
 "metadata": {
  "kernelspec": {
   "display_name": "venv",
   "language": "python",
   "name": "python3"
  },
  "language_info": {
   "codemirror_mode": {
    "name": "ipython",
    "version": 3
   },
   "file_extension": ".py",
   "mimetype": "text/x-python",
   "name": "python",
   "nbconvert_exporter": "python",
   "pygments_lexer": "ipython3",
   "version": "3.9.6"
  },
  "orig_nbformat": 4
 },
 "nbformat": 4,
 "nbformat_minor": 2
}
