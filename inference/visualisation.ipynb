{
 "cells": [
  {
   "attachments": {},
   "cell_type": "markdown",
   "metadata": {},
   "source": [
    "# Inference Visualisation"
   ]
  },
  {
   "attachments": {},
   "cell_type": "markdown",
   "metadata": {},
   "source": [
    "**Notebook used to visualise the inference results**"
   ]
  },
  {
   "attachments": {},
   "cell_type": "markdown",
   "metadata": {},
   "source": [
    "## Imports"
   ]
  },
  {
   "cell_type": "code",
   "execution_count": 1,
   "metadata": {},
   "outputs": [],
   "source": [
    "import sys\n",
    "sys.path.append('../')\n",
    "sys.path.append('../utils')\n",
    "sys.path.append('../preprocessing')\n",
    "sys.path.append('../models')\n",
    "sys.path.append('../experiments')\n",
    "sys.path.append('../inference')\n",
    "\n",
    "import os\n",
    "\n",
    "from utils.visualization import visualize_infered_labels\n",
    "from preprocessing.data_loader import load_test_data"
   ]
  },
  {
   "attachments": {},
   "cell_type": "markdown",
   "metadata": {},
   "source": [
    "## Visualisation"
   ]
  },
  {
   "cell_type": "code",
   "execution_count": 3,
   "metadata": {},
   "outputs": [
    {
     "name": "stderr",
     "output_type": "stream",
     "text": [
      "100%|██████████| 16/16 [00:00<00:00, 19.05it/s]\n"
     ]
    },
    {
     "data": {
      "application/vnd.jupyter.widget-view+json": {
       "model_id": "9e023d89457341d1aa33a342362e9257",
       "version_major": 2,
       "version_minor": 0
      },
      "text/plain": [
       "interactive(children=(IntSlider(value=8, description='image', max=16, min=1), IntSlider(value=10, description=…"
      ]
     },
     "metadata": {},
     "output_type": "display_data"
    }
   ],
   "source": [
    "# init params\n",
    "task_name = \"Task05_Prostate\"\n",
    "model_name = \"UNetConvSkip\"\n",
    "version = \"v0\"\n",
    "task_folder_path = os.path.join(\"/home/jaggbow/scratch/clem/dataset\", task_name)\n",
    "output_folder = os.path.join(\"/home/jaggbow/scratch/clem/inference\", task_name, model_name, version)\n",
    "output_filenames = sorted(os.listdir(os.path.join(task_folder_path, \"test\")))\n",
    "output_filenames_idx = [filename[-7:-4] for filename in output_filenames]\n",
    "\n",
    "# load test dataloader\n",
    "test_dataloader = load_test_data(task_folder_path,\n",
    "                                 batch_size=1,\n",
    "                                 shuffle=False,\n",
    "                                 normalize=False,\n",
    "                                 resize=None,\n",
    "                                 transform=None)\n",
    "\n",
    "labels_path = os.path.join(output_folder, sorted(os.listdir(output_folder))[-1])\n",
    "visualize_infered_labels(test_dataloader, labels_path, figsize=(5, 5))"
   ]
  },
  {
   "cell_type": "code",
   "execution_count": null,
   "metadata": {},
   "outputs": [],
   "source": []
  }
 ],
 "metadata": {
  "kernelspec": {
   "display_name": "venv",
   "language": "python",
   "name": "python3"
  },
  "language_info": {
   "codemirror_mode": {
    "name": "ipython",
    "version": 3
   },
   "file_extension": ".py",
   "mimetype": "text/x-python",
   "name": "python",
   "nbconvert_exporter": "python",
   "pygments_lexer": "ipython3",
   "version": "3.9.6"
  },
  "orig_nbformat": 4
 },
 "nbformat": 4,
 "nbformat_minor": 2
}
